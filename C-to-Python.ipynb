{
 "cells": [
  {
   "cell_type": "markdown",
   "id": "4a6d0cd9-a7b8-4683-b2aa-95c78ccd23c4",
   "metadata": {},
   "source": [
    "C-to-Python\n",
    "===\n",
    "\n",
    "https://docs.python.org/3/library/ctypes.html"
   ]
  },
  {
   "cell_type": "code",
   "execution_count": 1,
   "id": "45e7248b-6063-4ef3-a15c-1248dba9a637",
   "metadata": {},
   "outputs": [],
   "source": [
    "from ctypes import cdll  # pythonic interfaces for C(++) libraries\n",
    "from ctypes import c_double\n",
    "from ctypes import c_long"
   ]
  },
  {
   "cell_type": "code",
   "execution_count": 12,
   "id": "fa3c7608-ee25-4faf-a5c9-7c0a633ff24e",
   "metadata": {},
   "outputs": [],
   "source": [
    "# load our library and define the input/output interfaces\n",
    "myclib=cdll.LoadLibrary('./mylib.soc')\n",
    "# we have to define input/ouput data types for EVERY function we want to use\n",
    "# in a particular library\n",
    "myclib.findPi.argtypes=[c_long]    # input data type[s]\n",
    "myclib.findPi.restype=c_double     # return value type"
   ]
  },
  {
   "cell_type": "code",
   "execution_count": 14,
   "id": "2c0fae69-f1be-4a23-848d-bf6063b57a3d",
   "metadata": {},
   "outputs": [
    {
     "name": "stdout",
     "output_type": "stream",
     "text": [
      "2.76 s ± 0 ns per loop (mean ± std. dev. of 1 run, 1 loop each)\n"
     ]
    }
   ],
   "source": [
    "%%timeit -n1 -r1 \n",
    "myclib.findPi(100*1000*1000)"
   ]
  },
  {
   "cell_type": "code",
   "execution_count": 10,
   "id": "794a6d19-a0df-44c6-a5f5-f09bd1da51a7",
   "metadata": {},
   "outputs": [],
   "source": [
    "from mypylib import findPi"
   ]
  },
  {
   "cell_type": "code",
   "execution_count": 11,
   "id": "cfd10717-188b-4057-adee-e322fd385fcb",
   "metadata": {},
   "outputs": [
    {
     "name": "stdout",
     "output_type": "stream",
     "text": [
      "15.6 s ± 0 ns per loop (mean ± std. dev. of 1 run, 1 loop each)\n"
     ]
    }
   ],
   "source": [
    "%%timeit -n1 -r1 \n",
    "findPi(100*1000*1000)"
   ]
  },
  {
   "cell_type": "code",
   "execution_count": null,
   "id": "744fd716-dc4c-4743-832f-80eca100cc07",
   "metadata": {},
   "outputs": [],
   "source": []
  }
 ],
 "metadata": {
  "kernelspec": {
   "display_name": "Python 3 (ipykernel)",
   "language": "python",
   "name": "python3"
  },
  "language_info": {
   "codemirror_mode": {
    "name": "ipython",
    "version": 3
   },
   "file_extension": ".py",
   "mimetype": "text/x-python",
   "name": "python",
   "nbconvert_exporter": "python",
   "pygments_lexer": "ipython3",
   "version": "3.9.6"
  }
 },
 "nbformat": 4,
 "nbformat_minor": 5
}
