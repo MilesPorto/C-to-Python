{
 "cells": [
  {
   "cell_type": "code",
   "execution_count": 1,
   "id": "0970d0e4-fd0a-4954-9f0e-42fd525dbfc1",
   "metadata": {},
   "outputs": [],
   "source": [
    "def quickperm(a):\n",
    "    N = len(a)\n",
    "    p = [*range(N+1)]\n",
    "    i = 1\n",
    "    while True:\n",
    "        yield a\n",
    "        if i >= N: break\n",
    "\n",
    "        p[i] -= 1\n",
    "        j = 0 if i % 2 == 0 else p[i]\n",
    "        a[j], a[i] = a[i], a[j]\n",
    "\n",
    "        i = 1\n",
    "        while p[i] == 0:\n",
    "            p[i] = i\n",
    "            i += 1"
   ]
  },
  {
   "cell_type": "code",
   "execution_count": 2,
   "id": "82252543-db69-4861-8d2d-3b0a91cc9dc9",
   "metadata": {},
   "outputs": [],
   "source": [
    "a=[1,2,3]"
   ]
  },
  {
   "cell_type": "code",
   "execution_count": 3,
   "id": "a7d80361-bea6-4361-80fc-38cd1da12451",
   "metadata": {},
   "outputs": [
    {
     "name": "stdout",
     "output_type": "stream",
     "text": [
      "<generator object quickperm at 0x7f3404cf8e40>\n",
      "<generator object quickperm at 0x7f3404cf8dd0>\n",
      "<generator object quickperm at 0x7f3404cf8e40>\n",
      "<generator object quickperm at 0x7f3404cf8dd0>\n",
      "<generator object quickperm at 0x7f3404cf8eb0>\n",
      "<generator object quickperm at 0x7f3404cf8dd0>\n"
     ]
    }
   ],
   "source": [
    "for i in range(6):\n",
    "    b=quickperm(a)\n",
    "    print(b)"
   ]
  },
  {
   "cell_type": "code",
   "execution_count": 4,
   "id": "9995d2a3-9c6d-4d15-b40d-63dec0213704",
   "metadata": {},
   "outputs": [
    {
     "name": "stdout",
     "output_type": "stream",
     "text": [
      "['a', 'b', 'c', 'd']\n",
      "['a', 'b', 'd', 'c']\n",
      "['a', 'c', 'b', 'd']\n",
      "['a', 'c', 'd', 'b']\n",
      "['a', 'd', 'c', 'b']\n",
      "['a', 'd', 'b', 'c']\n",
      "['b', 'a', 'c', 'd']\n",
      "['b', 'a', 'd', 'c']\n",
      "['b', 'c', 'a', 'd']\n",
      "['b', 'c', 'd', 'a']\n",
      "['b', 'd', 'c', 'a']\n",
      "['b', 'd', 'a', 'c']\n",
      "['c', 'b', 'a', 'd']\n",
      "['c', 'b', 'd', 'a']\n",
      "['c', 'a', 'b', 'd']\n",
      "['c', 'a', 'd', 'b']\n",
      "['c', 'd', 'a', 'b']\n",
      "['c', 'd', 'b', 'a']\n",
      "['d', 'b', 'c', 'a']\n",
      "['d', 'b', 'a', 'c']\n",
      "['d', 'c', 'b', 'a']\n",
      "['d', 'c', 'a', 'b']\n",
      "['d', 'a', 'c', 'b']\n",
      "['d', 'a', 'b', 'c']\n"
     ]
    }
   ],
   "source": [
    "#print \"Enter the numbers\"\n",
    "a = ['a', 'b', 'c', 'd']\n",
    "#converting all elements of array to integer\n",
    "#a = (map(int,a.split()))\n",
    "\n",
    "def permutation(a,start, end):\n",
    "    if end==start:\n",
    "        print (a)\n",
    "        return\n",
    "    for i in range(start, end+1):\n",
    "        #swapping\n",
    "        a[i],a[start] = a[start],a[i]\n",
    "        #calling permutation function\n",
    "        #by keeping the element at the index start fixed\n",
    "        permutation(a,start+1, end)\n",
    "        #restoring the array\n",
    "        a[i],a[start] = a[start],a[i]\n",
    "permutation(a,0,len(a)-1)"
   ]
  },
  {
   "cell_type": "code",
   "execution_count": null,
   "id": "2617fdff-5879-409b-bbc9-71831d3e4e9d",
   "metadata": {},
   "outputs": [],
   "source": [
    "import ROOT as r"
   ]
  },
  {
   "cell_type": "code",
   "execution_count": null,
   "id": "5e8a93b5-574c-4963-988d-7e4ce46211ed",
   "metadata": {},
   "outputs": [],
   "source": [
    "%%cpp -d\n",
    "template<class T>\n",
    "void printit(std::vector<T> & vect){\n",
    "    for (int i=0; i<vect.size(); ++i) cout<<vect[i]<<endl;\n",
    "}"
   ]
  },
  {
   "cell_type": "code",
   "execution_count": null,
   "id": "43b461aa-f021-4da7-83b6-fc2f0f18f0ec",
   "metadata": {},
   "outputs": [],
   "source": [
    "%%cpp -d\n",
    "template<class T>\n",
    "void permutation(std::vector<T> & vect, int start, int end){\n",
    "    if (end==start){\n",
    "        printit(vect);\n",
    "        return;\n",
    "    }\n",
    "    for (int i=start; i<end+1; ++i){\n",
    "        // swapping\n",
    "        T tmp = vect[i];\n",
    "        vect[i] = vect[start];\n",
    "        vect[start]=tmp;\n",
    "        // calling permutation function\n",
    "        // by keeping the element at the index start fixed\n",
    "        permutation(vect, start+1, end);\n",
    "        // restoring the array\n",
    "        tmp = vect[i];\n",
    "        vect[i] = vect[start];\n",
    "        vect[start]=tmp;         \n",
    "    }\n",
    "}"
   ]
  },
  {
   "cell_type": "code",
   "execution_count": null,
   "id": "6d3d51f8-5d7e-4d62-aef4-6d755f3e44dd",
   "metadata": {},
   "outputs": [],
   "source": [
    "%%cpp\n",
    "std::vector<int> v = {8, 4, 5, 9};\n",
    "permutation(v,0,v.size()-1);"
   ]
  },
  {
   "cell_type": "code",
   "execution_count": null,
   "id": "f6104c91-e9d8-464e-bf7d-d064d34afe5d",
   "metadata": {},
   "outputs": [],
   "source": [
    "r.v[2]"
   ]
  },
  {
   "cell_type": "code",
   "execution_count": null,
   "id": "dcbe5394-8d81-4e3b-aa73-4d7b4f84f9e9",
   "metadata": {},
   "outputs": [],
   "source": [
    "%%cpp\n",
    "std::vector<char> v = {'a', 'b', 'c', 'd'};\n",
    "printit(v);"
   ]
  },
  {
   "cell_type": "code",
   "execution_count": null,
   "id": "60ed334a-40c4-4e33-afa4-2f5f3bbd6a99",
   "metadata": {},
   "outputs": [],
   "source": []
  }
 ],
 "metadata": {
  "kernelspec": {
   "display_name": "Python 3 (ipykernel)",
   "language": "python",
   "name": "python3"
  },
  "language_info": {
   "codemirror_mode": {
    "name": "ipython",
    "version": 3
   },
   "file_extension": ".py",
   "mimetype": "text/x-python",
   "name": "python",
   "nbconvert_exporter": "python",
   "pygments_lexer": "ipython3",
   "version": "3.9.6"
  }
 },
 "nbformat": 4,
 "nbformat_minor": 5
}
