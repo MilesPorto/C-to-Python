{
 "cells": [
  {
   "cell_type": "code",
   "execution_count": 1,
   "id": "b572f6d5-5c49-4c7e-84b7-19a61fe0d350",
   "metadata": {},
   "outputs": [
    {
     "name": "stdout",
     "output_type": "stream",
     "text": [
      "Welcome to JupyROOT 6.24/02\n"
     ]
    }
   ],
   "source": [
    "import ROOT as r"
   ]
  },
  {
   "cell_type": "code",
   "execution_count": 2,
   "id": "956e2f8d-1c05-43e3-91ef-f8604e5210bf",
   "metadata": {},
   "outputs": [
    {
     "data": {
      "text/plain": [
       "True"
      ]
     },
     "execution_count": 2,
     "metadata": {},
     "output_type": "execute_result"
    }
   ],
   "source": [
    "r.gInterpreter.Declare(\"\"\"\n",
    "class MyClass {\n",
    "public:\n",
    "    MyClass(int i) : m_data(i) {}\n",
    "    virtual ~MyClass() {}\n",
    "    virtual int add_int(int i) { return m_data + i; }\n",
    "    int m_data;\n",
    "};\"\"\")"
   ]
  },
  {
   "cell_type": "code",
   "execution_count": 3,
   "id": "7dacb731-0f71-4f09-8137-df18fb741fc2",
   "metadata": {},
   "outputs": [
    {
     "data": {
      "text/plain": [
       "42"
      ]
     },
     "execution_count": 3,
     "metadata": {},
     "output_type": "execute_result"
    }
   ],
   "source": [
    "m=r.MyClass(42)\n",
    "m.m_data"
   ]
  },
  {
   "cell_type": "code",
   "execution_count": 6,
   "id": "bf26a230-089b-4bb8-a346-cf7911b9cc50",
   "metadata": {},
   "outputs": [
    {
     "data": {
      "text/plain": [
       "True"
      ]
     },
     "execution_count": 6,
     "metadata": {},
     "output_type": "execute_result"
    }
   ],
   "source": [
    "import cppyy\n",
    "\n",
    "cppyy.cppdef(\"\"\"\n",
    "class MyClass2 {\n",
    "public:\n",
    "    MyClass2(int i) : m_data(i) {}\n",
    "    virtual ~MyClass2() {}\n",
    "    virtual int add_int(int i) { return m_data + i; }\n",
    "    int m_data;\n",
    "};\"\"\")"
   ]
  },
  {
   "cell_type": "code",
   "execution_count": 7,
   "id": "75619813-70ec-413c-b50a-916d49e4fcee",
   "metadata": {},
   "outputs": [
    {
     "data": {
      "text/plain": [
       "43"
      ]
     },
     "execution_count": 7,
     "metadata": {},
     "output_type": "execute_result"
    }
   ],
   "source": [
    "m=cppyy.gbl.MyClass2(43)\n",
    "m.m_data"
   ]
  },
  {
   "cell_type": "code",
   "execution_count": 7,
   "id": "c19dc665-82e2-42bc-81a4-ee5a5fdace71",
   "metadata": {},
   "outputs": [
    {
     "name": "stdout",
     "output_type": "stream",
     "text": [
      "Hello, the number is: 42\n"
     ]
    }
   ],
   "source": [
    "from cppyy.gbl import MyClass\n",
    "\n",
    "m = MyClass(42)\n",
    "\n",
    "cppyy.cppdef(\"\"\"\n",
    "\n",
    "void say_hello(MyClass* m) {\n",
    "\n",
    "    std::cout << \"Hello, the number is: \" << m->m_data << std::endl;\n",
    "\n",
    "}\"\"\")\n",
    "True\n",
    "\n",
    "MyClass.say_hello = cppyy.gbl.say_hello\n",
    "\n",
    "m.say_hello()"
   ]
  },
  {
   "cell_type": "code",
   "execution_count": null,
   "id": "78ee3052-dcc7-4dc7-bc3d-4616fb286e2b",
   "metadata": {},
   "outputs": [],
   "source": []
  }
 ],
 "metadata": {
  "kernelspec": {
   "display_name": "Python 3 (ipykernel)",
   "language": "python",
   "name": "python3"
  },
  "language_info": {
   "codemirror_mode": {
    "name": "ipython",
    "version": 3
   },
   "file_extension": ".py",
   "mimetype": "text/x-python",
   "name": "python",
   "nbconvert_exporter": "python",
   "pygments_lexer": "ipython3",
   "version": "3.9.6"
  }
 },
 "nbformat": 4,
 "nbformat_minor": 5
}
